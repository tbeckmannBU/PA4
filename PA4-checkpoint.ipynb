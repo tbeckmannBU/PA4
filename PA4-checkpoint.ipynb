{
 "cells": [
  {
   "cell_type": "markdown",
   "id": "7eadcba3",
   "metadata": {},
   "source": [
    "# Tristan Beckmann\n",
    "\n",
    "# 2023SP Computer Prog for Liberal Arts (CS-150-01)\n",
    "## Programming Assignment 4 - Version 1\n",
    "### Spring 2023"
   ]
  },
  {
   "cell_type": "code",
   "execution_count": 1,
   "id": "b91214a4",
   "metadata": {},
   "outputs": [
    {
     "name": "stdout",
     "output_type": "stream",
     "text": [
      "0\n",
      "1\n",
      "2\n",
      "3\n",
      "4\n",
      "5\n",
      "6 *\n",
      "7\n",
      "8\n",
      "9 *\n",
      "10\n",
      "11\n",
      "12 *\n",
      "13\n",
      "14\n",
      "15 *\n",
      "16\n",
      "17\n",
      "18 *\n",
      "19\n",
      "20\n",
      "21 *\n",
      "22\n",
      "23\n",
      "24 *\n",
      "25\n",
      "26\n",
      "27 *\n",
      "28\n",
      "29\n",
      "30 *\n",
      "31\n",
      "32\n",
      "33 *\n",
      "34\n",
      "35\n",
      "36 *\n",
      "37\n",
      "38\n",
      "39 *\n",
      "40\n",
      "41\n",
      "42 *\n",
      "43\n",
      "44\n",
      "45 *\n",
      "46\n",
      "47\n",
      "48 *\n",
      "49\n",
      "50\n",
      "51 *\n",
      "52\n",
      "53\n",
      "54 *\n",
      "55\n",
      "56\n",
      "57 *\n",
      "58\n",
      "59\n",
      "60 *\n",
      "61\n",
      "62\n",
      "63 *\n",
      "64\n",
      "65\n",
      "66 *\n",
      "67\n",
      "68\n",
      "69 *\n",
      "70\n",
      "71\n",
      "72 *\n",
      "73\n",
      "74\n",
      "75 *\n",
      "76\n",
      "77\n",
      "78 *\n",
      "79\n",
      "80\n",
      "81 *\n",
      "82\n",
      "83\n",
      "84 *\n",
      "85\n",
      "86\n",
      "87 *\n",
      "88\n",
      "89\n",
      "90 *\n",
      "91\n",
      "92\n",
      "93 *\n",
      "94\n",
      "95\n",
      "96 *\n",
      "97\n",
      "98\n",
      "99 *\n",
      "100\n"
     ]
    }
   ],
   "source": [
    "for x in range(101):\n",
    "    if x==0 or x==3:\n",
    "        print(x)\n",
    "    elif x%3==0:\n",
    "        print(x,'*')\n",
    "    else:\n",
    "        print(x)"
   ]
  },
  {
   "cell_type": "code",
   "execution_count": 4,
   "id": "fb9d0194",
   "metadata": {},
   "outputs": [
    {
     "name": "stdout",
     "output_type": "stream",
     "text": [
      "Enter a number from 1 to 12: 8\n",
      "The month is August and there are 31 days in the month\n"
     ]
    }
   ],
   "source": [
    "x=int(input(\"Enter a number from 1 to 12: \"))\n",
    "if (x==1):\n",
    "    print(\"The month is January and there are 31 days in the month\")\n",
    "elif(x==2):\n",
    "    print(\"The month is February and there are 28 days in the month\")\n",
    "elif(x==3):\n",
    "    print(\"The month is March and there are 31 days in the month\")\n",
    "elif(x==4):\n",
    "    print(\"The month is April and there are 30 days in the month\")\n",
    "elif(x==5):\n",
    "    print(\"The month is May and there are 31 days in the month\")\n",
    "elif(x==6):\n",
    "    print(\"The month is June and there are 30 days in the month\")\n",
    "elif(x==7):\n",
    "    print(\"The month is July and there are 31 days in the month\")\n",
    "elif(x==8):\n",
    "    print(\"The month is August and there are 31 days in the month\")\n",
    "elif(x==9):\n",
    "    print(\"The month is September and there are 30 days in the month\")\n",
    "elif(x==10):\n",
    "    print(\"The month is October and there are 31 days in the month\")\n",
    "elif(x==11):\n",
    "    print(\"The month is November and there are 30 days in the month\")\n",
    "else:\n",
    "    print(\"The month is December and there are 31 days in the month\")\n"
   ]
  },
  {
   "cell_type": "code",
   "execution_count": 17,
   "id": "f0c55dd3",
   "metadata": {},
   "outputs": [
    {
     "name": "stdout",
     "output_type": "stream",
     "text": [
      "Enter a number: 4\n",
      "4 is not a prime number\n"
     ]
    }
   ],
   "source": [
    "num=int(input(\"Enter a number: \"))\n",
    "\n",
    "if num == 1:\n",
    "    print(num, \"is not a prime number\")\n",
    "elif num > 1:\n",
    "    for i in range (2, num):\n",
    "        if (num % i) == 0:\n",
    "            print(num, \"is not a prime number\")\n",
    "\n",
    "else:\n",
    "    print(num, \"is a prime number\")"
   ]
  },
  {
   "cell_type": "code",
   "execution_count": 21,
   "id": "89cfc387",
   "metadata": {},
   "outputs": [
    {
     "name": "stdout",
     "output_type": "stream",
     "text": [
      "Input the lengths of the triangle's sides: \n",
      "x: 3\n",
      "y: 4\n",
      "z: 8\n",
      "The triangle is scalene\n"
     ]
    }
   ],
   "source": [
    "print(\"Input the lengths of the triangle's sides: \")\n",
    "x = int(input(\"x: \"))\n",
    "y = int(input(\"y: \"))\n",
    "z = int(input(\"z: \"))\n",
    "\n",
    "if x==y==z:\n",
    "    print(\"The triangle is equilateral\")\n",
    "elif x==y or y==z or z==x:\n",
    "    print(\"The triangle is isoceles\")\n",
    "else:\n",
    "    print(\"The triangle is scalene\")\n"
   ]
  },
  {
   "cell_type": "code",
   "execution_count": null,
   "id": "527ff6b7",
   "metadata": {},
   "outputs": [],
   "source": [
    "e.\tWrite a Python program that will evaluate if a value that represents an age falls into the following categories: minor(<18), adult(18-64), senior citizen(>=65). Your program should take input from a list of numbers (e.g. [65,78,34,56,12,9,43,67]). See the example below:\n",
    "65 : Senior Citizen\n",
    "78 : Senior Citizen\n",
    "34 : Adult\n",
    "56 : Adult\n",
    "12 : Minor\n",
    "9 : Minor\n",
    "43 : Adult\n",
    "67 : Senior Citizen\n"
   ]
  },
  {
   "cell_type": "code",
   "execution_count": 22,
   "id": "9d762f1d",
   "metadata": {},
   "outputs": [
    {
     "name": "stdout",
     "output_type": "stream",
     "text": [
      "What is the person's age? 65\n",
      "The person is a senior citizen\n"
     ]
    }
   ],
   "source": [
    "age=int(input(\"What is the person's age? \"))\n",
    "if age==0:\n",
    "    print()\n",
    "elif age<18 and age>0:\n",
    "    print(\"The person is a minor\")\n",
    "elif age>=18 and age<=64:\n",
    "    print(\"The person is an adult\")\n",
    "else:\n",
    "    print(\"The person is a senior citizen\")"
   ]
  },
  {
   "cell_type": "code",
   "execution_count": 24,
   "id": "ef438a22",
   "metadata": {},
   "outputs": [
    {
     "name": "stdout",
     "output_type": "stream",
     "text": [
      "65 : senior citizen\n",
      "78 : adult\n",
      "34 : senior citizen\n",
      "56 : senior citizen\n",
      "12 : minor\n",
      "9 : minor\n",
      "43 : senior citizen\n",
      "67 : adult\n"
     ]
    }
   ],
   "source": [
    "for number in [65, 78, 34, 56, 12, 9, 43, 67]:\n",
    "    if number<18:\n",
    "        print(number, ': minor')\n",
    "    elif number>65:\n",
    "        print(number, ': adult')\n",
    "    else:\n",
    "        print(number, ': senior citizen')"
   ]
  },
  {
   "cell_type": "code",
   "execution_count": null,
   "id": "e80e2702",
   "metadata": {},
   "outputs": [],
   "source": []
  }
 ],
 "metadata": {
  "kernelspec": {
   "display_name": "Python 3 (ipykernel)",
   "language": "python",
   "name": "python3"
  },
  "language_info": {
   "codemirror_mode": {
    "name": "ipython",
    "version": 3
   },
   "file_extension": ".py",
   "mimetype": "text/x-python",
   "name": "python",
   "nbconvert_exporter": "python",
   "pygments_lexer": "ipython3",
   "version": "3.9.13"
  }
 },
 "nbformat": 4,
 "nbformat_minor": 5
}
